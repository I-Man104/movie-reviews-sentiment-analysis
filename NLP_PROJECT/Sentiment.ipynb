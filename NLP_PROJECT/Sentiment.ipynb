{
 "cells": [
  {
   "cell_type": "code",
   "execution_count": 6,
   "metadata": {},
   "outputs": [],
   "source": [
    "from sklearn.feature_extraction.text import TfidfVectorizer\n",
    "import time\n",
    "from sklearn import svm\n",
    "from sklearn.metrics import classification_report\n",
    "import pandas as pd\n",
    "import os\n",
    "import random\n"
   ]
  },
  {
   "cell_type": "code",
   "execution_count": 18,
   "metadata": {},
   "outputs": [
    {
     "ename": "NameError",
     "evalue": "name 'nltk' is not defined",
     "output_type": "error",
     "traceback": [
      "\u001b[1;31m---------------------------------------------------------------------------\u001b[0m",
      "\u001b[1;31mNameError\u001b[0m                                 Traceback (most recent call last)",
      "Cell \u001b[1;32mIn[18], line 1\u001b[0m\n\u001b[1;32m----> 1\u001b[0m nltk\u001b[39m.\u001b[39mdownload(\u001b[39m'\u001b[39m\u001b[39mstopwords\u001b[39m\u001b[39m'\u001b[39m)\n\u001b[0;32m      2\u001b[0m nltk\u001b[39m.\u001b[39mdownload(\u001b[39m'\u001b[39m\u001b[39mwordnet\u001b[39m\u001b[39m'\u001b[39m)\n\u001b[0;32m      3\u001b[0m nltk\u001b[39m.\u001b[39mdownload(\u001b[39m'\u001b[39m\u001b[39mpunkt\u001b[39m\u001b[39m'\u001b[39m)\n",
      "\u001b[1;31mNameError\u001b[0m: name 'nltk' is not defined"
     ]
    }
   ],
   "source": []
  },
  {
   "cell_type": "code",
   "execution_count": 7,
   "metadata": {},
   "outputs": [],
   "source": [
    "df_train = ['Review','Label']\n",
    "df_test = ['Review','Label']\n",
    "pos_folder = 'review_polarity/txt_sentoken/pos'\n",
    "neg_folder = 'review_polarity/txt_sentoken/neg'\n"
   ]
  },
  {
   "cell_type": "code",
   "execution_count": 8,
   "metadata": {},
   "outputs": [],
   "source": [
    "reviews_train = []\n",
    "labels_train = []\n",
    "reviews_test = []\n",
    "labels_test = []\n",
    "\n",
    "# Loop over the positive and negative folders\n",
    "for folder in [pos_folder, neg_folder]:\n",
    "    # Get a list of all the files in the folder\n",
    "    files = os.listdir(folder)\n",
    "    # Shuffle the list of files randomly\n",
    "    random.shuffle(files)\n",
    "    # Loop over the first 800 files (training set)\n",
    "    for file in files[:800]:\n",
    "        # Open the file and read the contents (the review)\n",
    "        with open(os.path.join(folder, file), 'r') as f:\n",
    "            review = f.read()\n",
    "        # Add the review and label to the training set\n",
    "        reviews_train.append(review)\n",
    "        labels_train.append(1 if folder == pos_folder else 0) # 1 for positive, 0 for negative\n",
    "    # Loop over the remaining 200 files (test set)\n",
    "    for file in files[800:1000]:\n",
    "        # Open the file and read the contents (the review)\n",
    "        with open(os.path.join(folder, file), 'r') as f:\n",
    "            review = f.read()\n",
    "        # Add the review and label to the test set\n",
    "        reviews_test.append(review)\n",
    "        labels_test.append(1 if folder == pos_folder else 0) # 1 for positive, 0 for negative\n",
    "\n",
    "# Create the dataframes\n",
    "df_train = pd.DataFrame({'Review': reviews_train, 'Label': labels_train})\n",
    "df_test = pd.DataFrame({'Review': reviews_test, 'Label': labels_test})"
   ]
  },
  {
   "cell_type": "code",
   "execution_count": 15,
   "metadata": {},
   "outputs": [
    {
     "data": {
      "text/plain": [
       "Review    200\n",
       "Label     200\n",
       "dtype: int64"
      ]
     },
     "execution_count": 15,
     "metadata": {},
     "output_type": "execute_result"
    }
   ],
   "source": [
    "df_test[df_test['Label'] == 1].count()\n"
   ]
  },
  {
   "cell_type": "code",
   "execution_count": 17,
   "metadata": {},
   "outputs": [],
   "source": [
    "df_train.to_csv('Train_data.csv' ,index=False)\n",
    "df_test.to_csv('test_data.csv' ,index=False)"
   ]
  }
 ],
 "metadata": {
  "kernelspec": {
   "display_name": "Python 3",
   "language": "python",
   "name": "python3"
  },
  "language_info": {
   "codemirror_mode": {
    "name": "ipython",
    "version": 3
   },
   "file_extension": ".py",
   "mimetype": "text/x-python",
   "name": "python",
   "nbconvert_exporter": "python",
   "pygments_lexer": "ipython3",
   "version": "3.11.3"
  },
  "orig_nbformat": 4,
  "vscode": {
   "interpreter": {
    "hash": "ff4b1fca65a764b45acb559e482afe389d289dd599b9f8c5fd12ff5c2ea46a65"
   }
  }
 },
 "nbformat": 4,
 "nbformat_minor": 2
}
