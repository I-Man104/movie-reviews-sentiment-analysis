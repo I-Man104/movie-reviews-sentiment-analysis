{
 "cells": [
  {
   "attachments": {},
   "cell_type": "markdown",
   "metadata": {},
   "source": [
    "# Preparing"
   ]
  },
  {
   "attachments": {},
   "cell_type": "markdown",
   "metadata": {},
   "source": [
    "### needed libraries"
   ]
  },
  {
   "cell_type": "code",
   "execution_count": 229,
   "metadata": {},
   "outputs": [],
   "source": [
    "import pandas as pd\n",
    "import numpy as np\n",
    "import csv\n",
    "import os\n",
    "import nltk\n",
    "from sklearn.feature_extraction.text import CountVectorizer\n",
    "from sklearn.feature_extraction.text import TfidfVectorizer\n",
    "from nltk.corpus import stopwords\n",
    "import re\n",
    "from nltk.tokenize import word_tokenize\n",
    "from nltk.stem import WordNetLemmatizer\n",
    "import re\n",
    "from nltk.corpus import wordnet\n",
    "from sklearn.decomposition import PCA\n",
    "import matplotlib.pyplot as plt\n",
    "from gensim.models import Word2Vec\n",
    "from sklearn.naive_bayes import GaussianNB\n",
    "from sklearn.model_selection import train_test_split\n",
    "from sklearn.metrics import precision_score, recall_score, f1_score"
   ]
  },
  {
   "cell_type": "code",
   "execution_count": 230,
   "metadata": {},
   "outputs": [
    {
     "name": "stderr",
     "output_type": "stream",
     "text": [
      "[nltk_data] Downloading package stopwords to /home/ayman/nltk_data...\n",
      "[nltk_data]   Package stopwords is already up-to-date!\n",
      "[nltk_data] Downloading package wordnet to /home/ayman/nltk_data...\n",
      "[nltk_data]   Package wordnet is already up-to-date!\n"
     ]
    }
   ],
   "source": [
    "nltk.download('stopwords')\n",
    "nltk.download('wordnet')\n",
    "stop_words = set(stopwords.words('english'))\n",
    "vectorizer = CountVectorizer()\n",
    "tf_idf_vectorizer = TfidfVectorizer()"
   ]
  },
  {
   "attachments": {},
   "cell_type": "markdown",
   "metadata": {},
   "source": [
    "### converting review-polarity-negative"
   ]
  },
  {
   "cell_type": "code",
   "execution_count": 231,
   "metadata": {},
   "outputs": [],
   "source": [
    "directory_path = \"/home/ayman/Documents/NLP_PROJECT/review_polarity/txt_sentoken/neg\"\n",
    "text_data = []\n",
    "for filename in os.listdir(directory_path):\n",
    "    with open(os.path.join(directory_path, filename), 'r') as file:\n",
    "        text = file.read()\n",
    "        text_data.append(text)\n",
    "csv_path = \"/home/ayman/Documents/NLP_PROJECT/review_polarity/csv/review-polarity-neg.csv\"\n",
    "with open(csv_path, 'w', newline='') as file:\n",
    "    writer = csv.writer(file)\n",
    "    for text in text_data:\n",
    "        writer.writerow([[text]])"
   ]
  },
  {
   "attachments": {},
   "cell_type": "markdown",
   "metadata": {},
   "source": [
    "### converting review-polarity-positive"
   ]
  },
  {
   "cell_type": "code",
   "execution_count": 232,
   "metadata": {},
   "outputs": [],
   "source": [
    "directory_path = \"/home/ayman/Documents/NLP_PROJECT/review_polarity/txt_sentoken/pos\"\n",
    "text_data = []\n",
    "for filename in os.listdir(directory_path):\n",
    "    with open(os.path.join(directory_path, filename), 'r') as file:\n",
    "        text = file.read()\n",
    "        text_data.append(text)\n",
    "csv_path = \"/home/ayman/Documents/NLP_PROJECT/review_polarity/csv/review-polarity-pos.csv\"\n",
    "with open(csv_path, 'w', newline='') as file:\n",
    "    writer = csv.writer(file)\n",
    "    for text in text_data:\n",
    "        writer.writerow([[text]])"
   ]
  },
  {
   "attachments": {},
   "cell_type": "markdown",
   "metadata": {},
   "source": [
    "### Read from csv"
   ]
  },
  {
   "cell_type": "code",
   "execution_count": 233,
   "metadata": {},
   "outputs": [],
   "source": [
    "pos = pd.DataFrame(columns = [\"Reviews\"])\n",
    "neg = pd.DataFrame(columns = [\"Reviews\"])\n",
    "\n",
    "pos[\"Reviews\"] = pd.read_csv('./review_polarity/csv/review-polarity-pos.csv', header = None)\n",
    "neg[\"Reviews\"] = pd.read_csv('./review_polarity/csv/review-polarity-neg.csv', header = None)"
   ]
  },
  {
   "attachments": {},
   "cell_type": "markdown",
   "metadata": {},
   "source": [
    "# PreProcessing"
   ]
  },
  {
   "attachments": {},
   "cell_type": "markdown",
   "metadata": {},
   "source": [
    "### Reviews Preprocessing"
   ]
  },
  {
   "cell_type": "code",
   "execution_count": 234,
   "metadata": {},
   "outputs": [],
   "source": [
    "def reviews_cleaning(data):\n",
    "# Convert text to lowercase\n",
    "    data['Reviews'] = data['Reviews'].apply(lambda x: str(x).lower())\n",
    "\n",
    "    # Replace newline characters with an empty string\n",
    "    data['Reviews'] = data['Reviews'].apply(lambda x: re.sub(r'\\\\n', ' ', x))\n",
    "\n",
    "    # Remove special characters and punctuations\n",
    "    data['Reviews'] = data['Reviews'].apply(lambda x: re.sub(r'[^\\w\\s]+', '', x))\n",
    "\n",
    "    # Remove numbers\n",
    "    data['Reviews'] = data['Reviews'].apply(lambda x: \" \".join([word for word in x.split() if not any(char.isdigit() for char in word)]))\n",
    "    \n",
    "    # Remove extra whitespaces\n",
    "    data['Reviews'] = data['Reviews'].apply(lambda x: re.sub(r'\\s+', ' ', x))\n",
    "    \n",
    "    # Remove stop words\n",
    "    data['Reviews'] = data['Reviews'].apply(lambda x: \" \".join([word for word in x.lower().split() if word not in stop_words]))\n",
    "    \n",
    "    # Remove empty strings\n",
    "    data['Reviews'] = data['Reviews'][data['Reviews'].apply(lambda x: len(x)>0)]\n",
    "    \n",
    "    return data"
   ]
  },
  {
   "cell_type": "code",
   "execution_count": 235,
   "metadata": {},
   "outputs": [],
   "source": [
    "pos = reviews_cleaning(pos)\n",
    "neg = reviews_cleaning(neg)"
   ]
  },
  {
   "cell_type": "markdown",
   "metadata": {},
   "source": [
    "### Tokenization & lemmatization"
   ]
  },
  {
   "cell_type": "code",
   "execution_count": 236,
   "metadata": {},
   "outputs": [],
   "source": [
    "# Tokenization\n",
    "pos['Reviews'] = pos['Reviews'].apply(word_tokenize)\n",
    "# Lemmatization\n",
    "lemmatizer = WordNetLemmatizer()\n",
    "pos['Reviews'] = pos['Reviews'].apply(lambda x: [lemmatizer.lemmatize(word) for word in x])\n",
    "\n",
    "# Tokenization\n",
    "neg['Reviews'] = neg['Reviews'].apply(word_tokenize)\n",
    "# Lemmatization\n",
    "lemmatizer = WordNetLemmatizer()\n",
    "neg['Reviews'] = neg['Reviews'].apply(lambda x: [lemmatizer.lemmatize(word) for word in x])\n"
   ]
  },
  {
   "cell_type": "code",
   "execution_count": 237,
   "metadata": {},
   "outputs": [
    {
     "data": {
      "text/html": [
       "<div>\n",
       "<style scoped>\n",
       "    .dataframe tbody tr th:only-of-type {\n",
       "        vertical-align: middle;\n",
       "    }\n",
       "\n",
       "    .dataframe tbody tr th {\n",
       "        vertical-align: top;\n",
       "    }\n",
       "\n",
       "    .dataframe thead th {\n",
       "        text-align: right;\n",
       "    }\n",
       "</style>\n",
       "<table border=\"1\" class=\"dataframe\">\n",
       "  <thead>\n",
       "    <tr style=\"text-align: right;\">\n",
       "      <th></th>\n",
       "      <th>Reviews</th>\n",
       "    </tr>\n",
       "  </thead>\n",
       "  <tbody>\n",
       "    <tr>\n",
       "      <th>0</th>\n",
       "      <td>[dont, let, following, quirk, review, fool, be...</td>\n",
       "    </tr>\n",
       "    <tr>\n",
       "      <th>1</th>\n",
       "      <td>[often, laugh, hard, movie, head, hurt, thats,...</td>\n",
       "    </tr>\n",
       "    <tr>\n",
       "      <th>2</th>\n",
       "      <td>[insider, look, scandalridden, run, democratic...</td>\n",
       "    </tr>\n",
       "    <tr>\n",
       "      <th>3</th>\n",
       "      <td>[usually, movie, something, soiled, rug, big, ...</td>\n",
       "    </tr>\n",
       "    <tr>\n",
       "      <th>4</th>\n",
       "      <td>[long, illustrious, career, robin, williams, i...</td>\n",
       "    </tr>\n",
       "    <tr>\n",
       "      <th>...</th>\n",
       "      <td>...</td>\n",
       "    </tr>\n",
       "    <tr>\n",
       "      <th>995</th>\n",
       "      <td>[saw, night, hunter, long, time, since, gasped...</td>\n",
       "    </tr>\n",
       "    <tr>\n",
       "      <th>996</th>\n",
       "      <td>[synopsis, cultural, exploration, chinese, ame...</td>\n",
       "    </tr>\n",
       "    <tr>\n",
       "      <th>997</th>\n",
       "      <td>[tim, burton, sleepy, hollow, mysterious, head...</td>\n",
       "    </tr>\n",
       "    <tr>\n",
       "      <th>998</th>\n",
       "      <td>[upon, taking, seat, theater, surveying, crowd...</td>\n",
       "    </tr>\n",
       "    <tr>\n",
       "      <th>999</th>\n",
       "      <td>[paraphrase, song, title, earlier, disney, mov...</td>\n",
       "    </tr>\n",
       "  </tbody>\n",
       "</table>\n",
       "<p>1000 rows × 1 columns</p>\n",
       "</div>"
      ],
      "text/plain": [
       "                                               Reviews\n",
       "0    [dont, let, following, quirk, review, fool, be...\n",
       "1    [often, laugh, hard, movie, head, hurt, thats,...\n",
       "2    [insider, look, scandalridden, run, democratic...\n",
       "3    [usually, movie, something, soiled, rug, big, ...\n",
       "4    [long, illustrious, career, robin, williams, i...\n",
       "..                                                 ...\n",
       "995  [saw, night, hunter, long, time, since, gasped...\n",
       "996  [synopsis, cultural, exploration, chinese, ame...\n",
       "997  [tim, burton, sleepy, hollow, mysterious, head...\n",
       "998  [upon, taking, seat, theater, surveying, crowd...\n",
       "999  [paraphrase, song, title, earlier, disney, mov...\n",
       "\n",
       "[1000 rows x 1 columns]"
      ]
     },
     "execution_count": 237,
     "metadata": {},
     "output_type": "execute_result"
    }
   ],
   "source": [
    "pos"
   ]
  },
  {
   "attachments": {},
   "cell_type": "markdown",
   "metadata": {},
   "source": [
    "# Feature Extraction"
   ]
  },
  {
   "attachments": {},
   "cell_type": "markdown",
   "metadata": {},
   "source": [
    "### TF-IDF"
   ]
  },
  {
   "cell_type": "code",
   "execution_count": 81,
   "metadata": {},
   "outputs": [],
   "source": [
    "# Convert the tokenized and lemmatized corpus into numerical vectors using BoW\n",
    "pos_bag = tf_idf_vectorizer.fit_transform(pos['Reviews'].apply(lambda x: ' '.join(x)))\n",
    "\n",
    "# Convert the tokenized and lemmatized corpus into numerical vectors using BoW\n",
    "neg_bag = tf_idf_vectorizer.fit_transform(neg['Reviews'].apply(lambda x: ' '.join(x)))"
   ]
  },
  {
   "attachments": {},
   "cell_type": "markdown",
   "metadata": {},
   "source": [
    "### Bag Of Words"
   ]
  },
  {
   "cell_type": "code",
   "execution_count": 190,
   "metadata": {},
   "outputs": [],
   "source": [
    "# Convert the tokenized and lemmatized corpus into numerical vectors using BoW\n",
    "pos_bag = vectorizer.fit_transform(pos['Reviews'].apply(lambda x: ' '.join(x)))\n",
    "\n",
    "# Convert the tokenized and lemmatized corpus into numerical vectors using BoW\n",
    "neg_bag = vectorizer.fit_transform(neg['Reviews'].apply(lambda x: ' '.join(x)))\n"
   ]
  },
  {
   "attachments": {},
   "cell_type": "markdown",
   "metadata": {},
   "source": [
    "### PCA visualization"
   ]
  },
  {
   "cell_type": "code",
   "execution_count": 82,
   "metadata": {},
   "outputs": [
    {
     "data": {
      "image/png": "[encoded data removed]",
      "text/plain": [
       "<Figure size 640x480 with 1 Axes>"
      ]
     },
     "metadata": {},
     "output_type": "display_data"
    }
   ],
   "source": [
    "# Perform PCA\n",
    "pca = PCA(n_components=2)\n",
    "pca_bow = pca.fit_transform(pos_bag.toarray())\n",
    "# Plot the results\n",
    "plt.scatter(pca_bow[:,0], pca_bow[:,1])\n",
    "plt.show()"
   ]
  },
  {
   "cell_type": "code",
   "execution_count": 83,
   "metadata": {},
   "outputs": [
    {
     "data": {
      "image/png": "[encoded data removed]",
      "text/plain": [
       "<Figure size 640x480 with 1 Axes>"
      ]
     },
     "metadata": {},
     "output_type": "display_data"
    }
   ],
   "source": [
    "# Perform PCA\n",
    "pca = PCA(n_components=2)\n",
    "pca_bow = pca.fit_transform(neg_bag.toarray())\n",
    "# Plot the results\n",
    "plt.scatter(pca_bow[:,0], pca_bow[:,1])\n",
    "plt.show()"
   ]
  },
  {
   "attachments": {},
   "cell_type": "markdown",
   "metadata": {},
   "source": [
    "### Word2Vec"
   ]
  },
  {
   "cell_type": "code",
   "execution_count": 238,
   "metadata": {},
   "outputs": [
    {
     "data": {
      "text/plain": [
       "<gensim.models.word2vec.Word2Vec at 0x7f5a627157e0>"
      ]
     },
     "execution_count": 238,
     "metadata": {},
     "output_type": "execute_result"
    }
   ],
   "source": [
    "# Train a Word2Vec model on the list of sentences\n",
    "sentences = pd.concat([pos, neg])\n",
    "model = Word2Vec(sentences, window=5, vector_size = 100, min_count=1, workers=4)\n",
    "\n",
    "model"
   ]
  },
  {
   "cell_type": "code",
   "execution_count": 239,
   "metadata": {},
   "outputs": [],
   "source": [
    "def get_feature_vector(tokens, model):\n",
    "    feature_vector = np.zeros((100,), dtype=\"float32\") # assuming size=100 in Word2Vec\n",
    "    n_words = 0\n",
    "    for word in tokens:\n",
    "        if word in model.wv.key_to_index:\n",
    "            feature_vector = np.add(feature_vector, model.wv[word])\n",
    "            n_words += 1\n",
    "    if n_words > 0:\n",
    "        feature_vector = np.divide(feature_vector, n_words)\n",
    "    return feature_vector"
   ]
  },
  {
   "cell_type": "code",
   "execution_count": 240,
   "metadata": {},
   "outputs": [],
   "source": [
    "# input features\n",
    "X = np.zeros((len(sentences), 100), dtype=\"float32\")\n",
    "for i, review in enumerate(sentences):\n",
    "    X[i] = get_feature_vector(review, model)"
   ]
  },
  {
   "cell_type": "code",
   "execution_count": 241,
   "metadata": {},
   "outputs": [],
   "source": [
    "# target variable\n",
    "Y = [0]*len(neg) + [1]*len(pos)"
   ]
  },
  {
   "cell_type": "code",
   "execution_count": 242,
   "metadata": {},
   "outputs": [
    {
     "data": {
      "text/plain": [
       "2000"
      ]
     },
     "execution_count": 242,
     "metadata": {},
     "output_type": "execute_result"
    }
   ],
   "source": [
    "len(X)"
   ]
  },
  {
   "cell_type": "code",
   "execution_count": 243,
   "metadata": {},
   "outputs": [
    {
     "data": {
      "text/plain": [
       "2000"
      ]
     },
     "execution_count": 243,
     "metadata": {},
     "output_type": "execute_result"
    }
   ],
   "source": [
    "len(Y)"
   ]
  },
  {
   "attachments": {},
   "cell_type": "markdown",
   "metadata": {},
   "source": [
    "### Naive Bayes"
   ]
  },
  {
   "cell_type": "code",
   "execution_count": 244,
   "metadata": {},
   "outputs": [
    {
     "name": "stdout",
     "output_type": "stream",
     "text": [
      "Accuracy: 0.5025\n",
      "Recall: 1.0\n",
      "F1: 0.6688851913477537\n",
      "Precision0.5025\n"
     ]
    }
   ],
   "source": [
    "# Split the data into training and testing sets\n",
    "X_train, X_test, y_train, y_test = train_test_split(X, Y, test_size=0.2, random_state=42)\n",
    "\n",
    "# Train the classifier\n",
    "clf = GaussianNB()\n",
    "clf.fit(X_train, y_train)\n",
    "\n",
    "# Make predictions on the testing set\n",
    "y_pred = clf.predict(X_test)\n",
    "\n",
    "# Evaluate the classifier on the testing set\n",
    "accuracy = clf.score(X_test, y_test)\n",
    "\n",
    "# Calculate precision, recall, and F1 score\n",
    "precision = precision_score(y_test, y_pred)\n",
    "recall = recall_score(y_test, y_pred)\n",
    "f1 = f1_score(y_test, y_pred)\n",
    "\n",
    "print(\"Accuracy: \" + str(accuracy) + \"\\nRecall: \" + str(recall) + \"\\nF1: \" + str(f1) + \"\\nPrecision: \" + str(precision))\n"
   ]
  },
  {
   "cell_type": "code",
   "execution_count": null,
   "metadata": {},
   "outputs": [],
   "source": []
  }
 ],
 "metadata": {
  "kernelspec": {
   "display_name": "Python 3",
   "language": "python",
   "name": "python3"
  },
  "language_info": {
   "codemirror_mode": {
    "name": "ipython",
    "version": 3
   },
   "file_extension": ".py",
   "mimetype": "text/x-python",
   "name": "python",
   "nbconvert_exporter": "python",
   "pygments_lexer": "ipython3",
   "version": "3.10.6"
  },
  "orig_nbformat": 4
 },
 "nbformat": 4,
 "nbformat_minor": 2
}
