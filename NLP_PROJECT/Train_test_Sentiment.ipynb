{
 "cells": [
  {
   "cell_type": "code",
   "execution_count": 255,
   "metadata": {},
   "outputs": [],
   "source": [
    "import pandas as pd\n",
    "import numpy as np\n",
    "import csv\n",
    "import os\n",
    "import nltk\n",
    "from sklearn.feature_extraction.text import TfidfVectorizer\n",
    "from nltk.corpus import stopwords\n",
    "import re\n",
    "from nltk.tokenize import word_tokenize\n",
    "from nltk.stem import WordNetLemmatizer\n",
    "import re\n",
    "from nltk.corpus import wordnet\n",
    "import matplotlib.pyplot as plt\n",
    "from sklearn.metrics import precision_score, recall_score, f1_score\n",
    "from sklearn.metrics import confusion_matrix\n",
    "import matplotlib.pyplot as plt\n",
    "from sklearn import svm\n",
    "from sklearn.metrics import accuracy_score\n",
    "from sklearn.metrics import classification_report\n",
    "from yellowbrick.classifier import ClassificationReport\n",
    "from sklearn.metrics import roc_curve, auc\n",
    "from sklearn.metrics import precision_recall_curve\n",
    "from sklearn.metrics import roc_curve, roc_auc_score\n",
    "from sklearn.metrics import average_precision_score\n",
    "\n",
    "\n"
   ]
  },
  {
   "cell_type": "code",
   "execution_count": 256,
   "metadata": {},
   "outputs": [
    {
     "name": "stderr",
     "output_type": "stream",
     "text": [
      "[nltk_data] Downloading package stopwords to\n",
      "[nltk_data]     C:\\Users\\Administrator\\AppData\\Roaming\\nltk_data...\n",
      "[nltk_data]   Package stopwords is already up-to-date!\n",
      "[nltk_data] Downloading package wordnet to\n",
      "[nltk_data]     C:\\Users\\Administrator\\AppData\\Roaming\\nltk_data...\n",
      "[nltk_data]   Package wordnet is already up-to-date!\n",
      "[nltk_data] Downloading package punkt to\n",
      "[nltk_data]     C:\\Users\\Administrator\\AppData\\Roaming\\nltk_data...\n",
      "[nltk_data]   Package punkt is already up-to-date!\n"
     ]
    }
   ],
   "source": [
    "nltk.download('stopwords')\n",
    "nltk.download('wordnet')\n",
    "nltk.download('punkt')\n",
    "stop_words = set(stopwords.words('english'))"
   ]
  },
  {
   "cell_type": "code",
   "execution_count": 257,
   "metadata": {},
   "outputs": [],
   "source": [
    "train=pd.read_csv(\"review_polarity/csv/Train_data.csv\")\n",
    "test=pd.read_csv(\"review_polarity/csv/test_data.csv\") \n"
   ]
  },
  {
   "cell_type": "code",
   "execution_count": 258,
   "metadata": {},
   "outputs": [],
   "source": [
    "# def TurnToString(df):\n",
    "#     for index, row in df.iterrows():\n",
    "#         if row['Label'] == 1:\n",
    "#             df.at[index, 'Label'] = 'pos'\n",
    "#         elif row['Label'] == 0:\n",
    "#             df.at[index, 'Label'] = 'neg'\n",
    "#     return df"
   ]
  },
  {
   "cell_type": "code",
   "execution_count": 259,
   "metadata": {},
   "outputs": [],
   "source": [
    "# train=TurnToString(train)\n",
    "# test=TurnToString(test)"
   ]
  },
  {
   "cell_type": "code",
   "execution_count": 260,
   "metadata": {},
   "outputs": [
    {
     "name": "stdout",
     "output_type": "stream",
     "text": [
      "                                                 Review  Label\n",
      "0     usually when a blockbuster comes out , it's lo...      1\n",
      "1     susan granger's review of \" songcatcher \" in t...      1\n",
      "2     the caveman's valentine starring samuel l . ja...      1\n",
      "3     seen february 15 , 1998 on home video ( borrow...      1\n",
      "4     when people are talking about good old times ,...      1\n",
      "...                                                 ...    ...\n",
      "1595  a life less ordinary ( r ) while the extremely...      0\n",
      "1596  the lives of older people in the twilight of t...      0\n",
      "1597  what would inspire someone who cannot write or...      0\n",
      "1598  senseless ( r ) marlon wayans is a very talent...      0\n",
      "1599  i saw this film on christmas day expecting an ...      0\n",
      "\n",
      "[1600 rows x 2 columns]\n"
     ]
    }
   ],
   "source": [
    "print(train)"
   ]
  },
  {
   "cell_type": "code",
   "execution_count": 261,
   "metadata": {},
   "outputs": [],
   "source": [
    "def Review_cleaning(data):\n",
    "# Convert text to lowercase\n",
    "    data['Review'] = data['Review'].apply(lambda x: str(x).lower())\n",
    "\n",
    "    # Replace newline characters with an empty string\n",
    "    data['Review'] = data['Review'].apply(lambda x: re.sub(r'\\\\n', ' ', x))\n",
    "\n",
    "    # Remove special characters and punctuations\n",
    "    data['Review'] = data['Review'].apply(lambda x: re.sub(r'[^\\w\\s]+', '', x))\n",
    "\n",
    "    # Remove numbers\n",
    "    data['Review'] = data['Review'].apply(lambda x: \" \".join([word for word in x.split() if not any(char.isdigit() for char in word)]))\n",
    "    \n",
    "    # Remove extra whitespaces\n",
    "    data['Review'] = data['Review'].apply(lambda x: re.sub(r'\\s+', ' ', x))\n",
    "    \n",
    "    # Remove stop words\n",
    "    data['Review'] = data['Review'].apply(lambda x: \" \".join([word for word in x.lower().split() if word not in stop_words]))\n",
    "    \n",
    "    # Remove empty strings\n",
    "    data['Review'] = data['Review'][data['Review'].apply(lambda x: len(x)>0)]\n",
    "    \n",
    "    return data"
   ]
  },
  {
   "cell_type": "code",
   "execution_count": 262,
   "metadata": {},
   "outputs": [],
   "source": [
    "train = Review_cleaning(train)\n",
    "test = Review_cleaning(test)"
   ]
  },
  {
   "cell_type": "code",
   "execution_count": 263,
   "metadata": {},
   "outputs": [],
   "source": [
    "# Tokenization\n",
    "train['Review'] = train['Review'].apply(word_tokenize)\n",
    "# Lemmatization\n",
    "lemmatizer = WordNetLemmatizer()\n",
    "train['Review'] = train['Review'].apply(lambda x: [lemmatizer.lemmatize(word) for word in x])\n",
    "\n",
    "# Tokenization\n",
    "test['Review'] = test['Review'].apply(word_tokenize)\n",
    "# Lemmatization\n",
    "lemmatizer = WordNetLemmatizer()\n",
    "test['Review'] = test['Review'].apply(lambda x: [lemmatizer.lemmatize(word) for word in x])\n"
   ]
  },
  {
   "cell_type": "code",
   "execution_count": 264,
   "metadata": {},
   "outputs": [
    {
     "data": {
      "text/html": [
       "<div>\n",
       "<style scoped>\n",
       "    .dataframe tbody tr th:only-of-type {\n",
       "        vertical-align: middle;\n",
       "    }\n",
       "\n",
       "    .dataframe tbody tr th {\n",
       "        vertical-align: top;\n",
       "    }\n",
       "\n",
       "    .dataframe thead th {\n",
       "        text-align: right;\n",
       "    }\n",
       "</style>\n",
       "<table border=\"1\" class=\"dataframe\">\n",
       "  <thead>\n",
       "    <tr style=\"text-align: right;\">\n",
       "      <th></th>\n",
       "      <th>Review</th>\n",
       "      <th>Label</th>\n",
       "    </tr>\n",
       "  </thead>\n",
       "  <tbody>\n",
       "    <tr>\n",
       "      <th>0</th>\n",
       "      <td>[breed, apart, cast, rutger, hauer, crazy, bir...</td>\n",
       "      <td>1</td>\n",
       "    </tr>\n",
       "    <tr>\n",
       "      <th>1</th>\n",
       "      <td>[grand, scheme, mel, gibson, movie, payback, b...</td>\n",
       "      <td>1</td>\n",
       "    </tr>\n",
       "    <tr>\n",
       "      <th>2</th>\n",
       "      <td>[want, know, truth, cat, dog, well, movie, sho...</td>\n",
       "      <td>1</td>\n",
       "    </tr>\n",
       "    <tr>\n",
       "      <th>3</th>\n",
       "      <td>[devil, take, asks, rhetorically, lulling, voi...</td>\n",
       "      <td>1</td>\n",
       "    </tr>\n",
       "    <tr>\n",
       "      <th>4</th>\n",
       "      <td>[bruce, barth, mellow, piano, play, background...</td>\n",
       "      <td>1</td>\n",
       "    </tr>\n",
       "    <tr>\n",
       "      <th>...</th>\n",
       "      <td>...</td>\n",
       "      <td>...</td>\n",
       "    </tr>\n",
       "    <tr>\n",
       "      <th>395</th>\n",
       "      <td>[back, february, monthly, los, angeles, comic,...</td>\n",
       "      <td>0</td>\n",
       "    </tr>\n",
       "    <tr>\n",
       "      <th>396</th>\n",
       "      <td>[plot, something, bunch, kid, going, haunted, ...</td>\n",
       "      <td>0</td>\n",
       "    </tr>\n",
       "    <tr>\n",
       "      <th>397</th>\n",
       "      <td>[take, two, old, dying, men, lifetime, regret,...</td>\n",
       "      <td>0</td>\n",
       "    </tr>\n",
       "    <tr>\n",
       "      <th>398</th>\n",
       "      <td>[movie, deep, religious, spiritual, undertone,...</td>\n",
       "      <td>0</td>\n",
       "    </tr>\n",
       "    <tr>\n",
       "      <th>399</th>\n",
       "      <td>[fond, writer, use, cheap, easy, pun, complete...</td>\n",
       "      <td>0</td>\n",
       "    </tr>\n",
       "  </tbody>\n",
       "</table>\n",
       "<p>400 rows × 2 columns</p>\n",
       "</div>"
      ],
      "text/plain": [
       "                                                Review  Label\n",
       "0    [breed, apart, cast, rutger, hauer, crazy, bir...      1\n",
       "1    [grand, scheme, mel, gibson, movie, payback, b...      1\n",
       "2    [want, know, truth, cat, dog, well, movie, sho...      1\n",
       "3    [devil, take, asks, rhetorically, lulling, voi...      1\n",
       "4    [bruce, barth, mellow, piano, play, background...      1\n",
       "..                                                 ...    ...\n",
       "395  [back, february, monthly, los, angeles, comic,...      0\n",
       "396  [plot, something, bunch, kid, going, haunted, ...      0\n",
       "397  [take, two, old, dying, men, lifetime, regret,...      0\n",
       "398  [movie, deep, religious, spiritual, undertone,...      0\n",
       "399  [fond, writer, use, cheap, easy, pun, complete...      0\n",
       "\n",
       "[400 rows x 2 columns]"
      ]
     },
     "execution_count": 264,
     "metadata": {},
     "output_type": "execute_result"
    }
   ],
   "source": [
    "test"
   ]
  },
  {
   "attachments": {},
   "cell_type": "markdown",
   "metadata": {},
   "source": [
    "### Turn It to TF-IDF"
   ]
  },
  {
   "cell_type": "code",
   "execution_count": 265,
   "metadata": {},
   "outputs": [],
   "source": [
    "vectorizer = TfidfVectorizer(min_df = 5,\n",
    "                             max_df = 0.8,\n",
    "                             sublinear_tf = True,\n",
    "                             use_idf = True)\n",
    "\n",
    "train_vectors = vectorizer.fit_transform(train['Review'].apply(lambda x: ' '.join(x)))\n",
    "test_vectors = vectorizer.transform(test['Review'].apply(lambda x: ' '.join(x)))"
   ]
  },
  {
   "attachments": {},
   "cell_type": "markdown",
   "metadata": {},
   "source": [
    "### Turn it To WordToVec (Trial)"
   ]
  },
  {
   "cell_type": "code",
   "execution_count": 266,
   "metadata": {},
   "outputs": [],
   "source": [
    "# model = gensim.models.Word2Vec(train['Review'], vector_size=100, window=5, min_count=5, workers=4)\n",
    "\n",
    "# train_vectors = []\n",
    "# for review in train['Review']:\n",
    "#     review_vecs = []\n",
    "#     for word in review:\n",
    "#         try:\n",
    "#             vec = model.wv[word]\n",
    "#             review_vecs.append(vec)\n",
    "#         except KeyError:\n",
    "#             # Ignore, if the word doesn't exist in the vocabulary\n",
    "#             pass\n",
    "#     train_vectors.append(review_vecs)\n",
    "\n",
    "# test_vectors = []\n",
    "# for review in test['Review']:\n",
    "#     review_vecs = []\n",
    "#     for word in review:\n",
    "#         try:\n",
    "#             vec = model.wv[word]\n",
    "#             review_vecs.append(vec)\n",
    "#         except KeyError:\n",
    "#             # Ignore, if the word doesn't exist in the vocabulary\n",
    "#             pass\n",
    "#     test_vectors.append(review_vecs)\n",
    "# train_vectors = np.array([np.mean([model.wv[word] for word in review if word in model.wv], axis=0) for review in train['Review']])\n",
    "# test_vectors = np.array([np.mean([model.wv[word] for word in review if word in model.wv], axis=0) for review in test['Review']])\n"
   ]
  },
  {
   "cell_type": "code",
   "execution_count": 267,
   "metadata": {},
   "outputs": [
    {
     "data": {
      "text/plain": [
       "'usually blockbuster come loaded effect star bad script plenty action mystery men may contain allstar cast efects clever script character really work rare see year film based upon comic book series flaming carrot bob burden wan na super hero try fight crime done real hero champion city captain amazing greg kinnear thing go little haywire sinister casanova frankenstein geoffrey rush released city capture captain amazing plan wreak havoc upon champion city well trio decide take matter hand saving city first need assitance film take turn better beggining wan na hero blue raja hank azaria mr furious ben stiller shoveller william h macy sure enterataining act grew old fast aquire invisible boy kel mitchell bowler janeane garafalo mr splein paul reuben rescue film becoming disastorous mess thankfully original hero become amusing support reuben garfalo screen whole premise rather ridiculous pack punch keep interest one film considerably clever literally poke fun super hero film like batman robin superman etc fact many scene similar batman robin including opening sequence altered humorous superior way part cleverness come cast sometimes film talent overblown acting keep alive azaria macy enteratining character really stood one paul reuben matter disgusting revolting mr splein may still cant help laugh incredibly moronic riot watching reuben relieve bodily function janeane garafalo also interesting character seemed outgoing convincing character screem due enthusiasm kept film flowing men worth seeing alone troubled hero downside hero especially villain never really lift kel mitchell geoffrey rush utterly useless part limited theyd lucky screen minute ben stiller wasted mostly unlikeable power dialogue none character get rise anybody happily lost charming flow film far budget go wisely spent cast effect set design action look nice im glad seperate aspect film focused applaud slow time rather pointless mystery men still delivers forgets money making likely make bundle like proceeders thats work stupid maybe im disappointed one expected intelligent film get film thats wit capture attention make forget miserable year'"
      ]
     },
     "execution_count": 267,
     "metadata": {},
     "output_type": "execute_result"
    }
   ],
   "source": [
    "train['Review'].apply(lambda x: ' '.join(x))[0]"
   ]
  },
  {
   "cell_type": "code",
   "execution_count": 268,
   "metadata": {},
   "outputs": [],
   "source": [
    "classifier_linear = svm.SVC(kernel='linear', probability=True)\n",
    "classifier_linear.fit(train_vectors, train['Label'])\n",
    "prediction_linear = classifier_linear.predict(test_vectors)\n",
    "score_linear = classifier_linear.predict_proba(test_vectors)[:,1]\n"
   ]
  },
  {
   "cell_type": "code",
   "execution_count": 269,
   "metadata": {},
   "outputs": [
    {
     "name": "stdout",
     "output_type": "stream",
     "text": [
      "Results for SVC(kernel=linear)\n",
      "accuarcy :  0.8475\n",
      "positive:  {'precision': 0.8202764976958525, 'recall': 0.89, 'f1-score': 0.8537170263788969, 'support': 200}\n",
      "negative:  {'precision': 0.8797814207650273, 'recall': 0.805, 'f1-score': 0.8407310704960835, 'support': 200}\n"
     ]
    }
   ],
   "source": [
    "print(\"Results for SVC(kernel=linear)\")\n",
    "report = classification_report(test['Label'], prediction_linear, output_dict=True)\n",
    "accuracy = accuracy_score(test['Label'], prediction_linear)\n",
    "print(\"accuarcy : \",accuracy)\n",
    "print('positive: ', report['1'])\n",
    "print('negative: ', report['0'])"
   ]
  },
  {
   "attachments": {},
   "cell_type": "markdown",
   "metadata": {},
   "source": [
    "## Visualization"
   ]
  },
  {
   "attachments": {},
   "cell_type": "markdown",
   "metadata": {},
   "source": [
    "### Classification Report Of SVC"
   ]
  },
  {
   "cell_type": "code",
   "execution_count": 270,
   "metadata": {},
   "outputs": [
    {
     "data": {
      "image/png": "[encoded data removed]",
      "text/plain": [
       "<Figure size 800x550 with 2 Axes>"
      ]
     },
     "metadata": {},
     "output_type": "display_data"
    },
    {
     "data": {
      "text/plain": [
       "<Axes: title={'center': 'SVC Classification Report'}>"
      ]
     },
     "execution_count": 270,
     "metadata": {},
     "output_type": "execute_result"
    }
   ],
   "source": [
    "visualizer = ClassificationReport(classifier_linear, classes=['neg', 'pos'], support=True)\n",
    "visualizer.fit(train_vectors, train['Label'])\n",
    "visualizer.score(test_vectors, test['Label'])\n",
    "visualizer.show()"
   ]
  },
  {
   "attachments": {},
   "cell_type": "markdown",
   "metadata": {},
   "source": [
    "### Confusion Matrix"
   ]
  },
  {
   "cell_type": "code",
   "execution_count": 271,
   "metadata": {},
   "outputs": [
    {
     "data": {
      "image/png": "[encoded data removed]",
      "text/plain": [
       "<Figure size 800x550 with 1 Axes>"
      ]
     },
     "metadata": {},
     "output_type": "display_data"
    }
   ],
   "source": [
    "cm = confusion_matrix(test['Label'], prediction_linear)\n",
    "plt.imshow(cm, cmap='Blues')\n",
    "thresh = cm.max() / 2.\n",
    "\n",
    "for i in range(len(['1','0'])):\n",
    "    for j in range(len(['1','0'])):\n",
    "        plt.text(j, i, cm[i, j],\n",
    "                 horizontalalignment=\"center\",\n",
    "                 color=\"white\" if cm[i, j] > thresh else \"black\")\n",
    "\n",
    "plt.xticks(range(len(['1','0'])), ['1','0'], rotation=45)\n",
    "plt.yticks(range(len(['1','0'])), ['1','0'])\n",
    "plt.ylabel('True label')\n",
    "plt.xlabel('Predicted label')\n",
    "plt.tight_layout()"
   ]
  },
  {
   "attachments": {},
   "cell_type": "markdown",
   "metadata": {},
   "source": [
    "### ROC Representation"
   ]
  },
  {
   "cell_type": "code",
   "execution_count": 272,
   "metadata": {},
   "outputs": [
    {
     "data": {
      "image/png": "[encoded data removed]",
      "text/plain": [
       "<Figure size 800x550 with 1 Axes>"
      ]
     },
     "metadata": {},
     "output_type": "display_data"
    }
   ],
   "source": [
    "fpr, tpr, _ = roc_curve(test['Label'], score_linear)\n",
    "roc_auc = auc(fpr, tpr)\n",
    "\n",
    "plt.plot(fpr, tpr, color='darkorange',\n",
    "         lw=2, label='ROC curve (area = %0.2f)' % roc_auc)\n",
    "plt.plot([0, 1], [0, 1], color='navy', lw=2, linestyle='--')\n",
    "plt.xlim([0.0, 1.0])\n",
    "plt.ylim([0.0, 1.05])\n",
    "plt.xlabel('False Positive Rate')\n",
    "plt.ylabel('True Positive Rate')\n",
    "plt.title('Receiver operating characteristic example')\n",
    "plt.legend(loc=\"lower right\")\n",
    "plt.show()"
   ]
  }
 ],
 "metadata": {
  "kernelspec": {
   "display_name": "Python 3",
   "language": "python",
   "name": "python3"
  },
  "language_info": {
   "codemirror_mode": {
    "name": "ipython",
    "version": 3
   },
   "file_extension": ".py",
   "mimetype": "text/x-python",
   "name": "python",
   "nbconvert_exporter": "python",
   "pygments_lexer": "ipython3",
   "version": "3.11.3"
  },
  "orig_nbformat": 4,
  "vscode": {
   "interpreter": {
    "hash": "ff4b1fca65a764b45acb559e482afe389d289dd599b9f8c5fd12ff5c2ea46a65"
   }
  }
 },
 "nbformat": 4,
 "nbformat_minor": 2
}
